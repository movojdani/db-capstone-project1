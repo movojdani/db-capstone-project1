{
 "cells": [
  {
   "cell_type": "code",
   "execution_count": 1,
   "id": "b23c5360-03af-4689-88e0-d7e5aa73edf1",
   "metadata": {},
   "outputs": [],
   "source": [
    "import mysql.connector as connector"
   ]
  },
  {
   "cell_type": "code",
   "execution_count": 6,
   "id": "29a40e41-ce22-4ba7-91f2-bcad56a41e51",
   "metadata": {},
   "outputs": [],
   "source": [
    "connection = connector.connect(user = \"little_lemon\", password = \"little_lemon\" , db = \"little_lemon_db\" )\n",
    "cursor = connection.cursor()"
   ]
  },
  {
   "cell_type": "code",
   "execution_count": 7,
   "id": "5d29dc95-6832-4326-bd56-4839c55a8dad",
   "metadata": {},
   "outputs": [
    {
     "name": "stdout",
     "output_type": "stream",
     "text": [
      "('all_info_view',)\n",
      "('bookings',)\n",
      "('customers',)\n",
      "('delivery_status',)\n",
      "('employees',)\n",
      "('menu',)\n",
      "('menu_item_view',)\n",
      "('menuitems',)\n",
      "('orders',)\n",
      "('ordersview',)\n"
     ]
    }
   ],
   "source": [
    "show_tables_query = \"SHOW tables\" \n",
    "cursor.execute(show_tables_query)\n",
    "result = cursor.fetchall()\n",
    "for row in result:\n",
    "    print(row)"
   ]
  },
  {
   "cell_type": "code",
   "execution_count": 9,
   "id": "473381a1-62da-44d2-bd56-095f292ed15a",
   "metadata": {},
   "outputs": [
    {
     "name": "stdout",
     "output_type": "stream",
     "text": [
      "('CustomerName', 'CustomerNumber', 'Email')\n"
     ]
    }
   ],
   "source": [
    "sql='''\n",
    "    SELECT \n",
    "        customers.CustomerName ,\n",
    "        customers.CustomerNumber ,\n",
    "        customers.Email\n",
    "    FROM\n",
    "        orders\n",
    "            JOIN\n",
    "        delivery_status ON orders.DeliveryID = delivery_status.DeliveryID\n",
    "            JOIN\n",
    "        bookings ON delivery_status.BookingID = bookings.BookingID\n",
    "            JOIN\n",
    "        customers ON bookings.CustomerID = customers.CustomerID\n",
    "    WHERE\n",
    "        (orders.TotalCost > 60);\n",
    "    '''\n",
    "cursor.execute(sql)\n",
    "result = cursor.fetchall()\n",
    "print (cursor.column_names)\n",
    "for row in result:\n",
    "    print(row)"
   ]
  },
  {
   "cell_type": "code",
   "execution_count": null,
   "id": "45421b0c-ae42-461a-a2bb-a27988465e05",
   "metadata": {},
   "outputs": [],
   "source": []
  }
 ],
 "metadata": {
  "kernelspec": {
   "display_name": "Python 3 (ipykernel)",
   "language": "python",
   "name": "python3"
  },
  "language_info": {
   "codemirror_mode": {
    "name": "ipython",
    "version": 3
   },
   "file_extension": ".py",
   "mimetype": "text/x-python",
   "name": "python",
   "nbconvert_exporter": "python",
   "pygments_lexer": "ipython3",
   "version": "3.13.1"
  }
 },
 "nbformat": 4,
 "nbformat_minor": 5
}
